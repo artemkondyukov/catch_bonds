{
 "cells": [
  {
   "cell_type": "code",
   "execution_count": 1,
   "metadata": {},
   "outputs": [],
   "source": [
    "from matplotlib import pyplot as plt\n",
    "import numpy as np\n",
    "import re\n",
    "import scipy as sp\n",
    "from scipy import stats\n",
    "import seaborn as sns\n",
    "\n",
    "%matplotlib inline"
   ]
  },
  {
   "cell_type": "code",
   "execution_count": 2,
   "metadata": {},
   "outputs": [],
   "source": [
    "sequences = []\n",
    "cur_seq = None\n",
    "\n",
    "with open(\"../data/fasta/uniprot-von+willebrand+factor.fasta\", \"r\") as f:\n",
    "    for line in f:\n",
    "        if line[0] == \">\":\n",
    "            if cur_seq is not None:\n",
    "                sequences.append(cur_seq)\n",
    "            cur_seq = {\"name\": line, \"lines\": []}\n",
    "        else:\n",
    "            cur_seq[\"lines\"].append(line)"
   ]
  },
  {
   "cell_type": "code",
   "execution_count": 3,
   "metadata": {},
   "outputs": [],
   "source": [
    "sequences = [seq for seq in sequences if len(seq[\"lines\"]) > 2500 // 60]\n",
    "sequences = [seq for seq in sequences if re.match(r\">([a-z]+)\\|([A-Z0-9]+)\\|([A-Z0-9_]+) von Willebrand factor OS\", seq[\"name\"])]"
   ]
  },
  {
   "cell_type": "code",
   "execution_count": 4,
   "metadata": {},
   "outputs": [],
   "source": [
    "with open(\"../data/fasta/vWF.fa\", \"w\") as f:\n",
    "    for seq in sequences:\n",
    "        f.write(seq[\"name\"])\n",
    "        for line in seq[\"lines\"]:\n",
    "            f.write(line)"
   ]
  },
  {
   "cell_type": "code",
   "execution_count": 5,
   "metadata": {},
   "outputs": [
    {
     "name": "stdout",
     "output_type": "stream",
     "text": [
      "    7017\r\n"
     ]
    }
   ],
   "source": [
    "!cat ../data/alignment_3.clustal_num | wc -l"
   ]
  },
  {
   "cell_type": "code",
   "execution_count": 6,
   "metadata": {},
   "outputs": [],
   "source": [
    "datas = []\n",
    "\n",
    "for i in np.arange(4, 7017, 110):\n",
    "    data = !cat ../data/alignment_4.clustal_num | tail -n +$i | head -n 108\n",
    "    datas.append(data)"
   ]
  },
  {
   "cell_type": "code",
   "execution_count": 7,
   "metadata": {},
   "outputs": [],
   "source": [
    "seq_dict = dict()\n",
    "\n",
    "for r_i, data in enumerate(datas):\n",
    "    for d in data:\n",
    "        if r_i == 0:\n",
    "            seq_dict[d.split(\" \")[0].split(\"|\")[2]] = d.split(\" \")[-1].split(\"\\t\")[0]\n",
    "            \n",
    "        else:\n",
    "            seq_dict[d.split(\" \")[0].split(\"|\")[2]] += d.split(\" \")[-1].split(\"\\t\")[0]"
   ]
  },
  {
   "cell_type": "code",
   "execution_count": 8,
   "metadata": {},
   "outputs": [],
   "source": [
    "aas = \"A C D E F G H I K L M N P Q R S T V W Y -\".split(\" \")"
   ]
  },
  {
   "cell_type": "code",
   "execution_count": 9,
   "metadata": {},
   "outputs": [],
   "source": [
    "def freq(l):\n",
    "    freq_arr = np.zeros((len(aas), ), dtype=np.uint32)\n",
    "    for a in l:\n",
    "        if a in aas:\n",
    "            freq_arr[aas.index(a)] += 1\n",
    "    return freq_arr\n",
    "\n",
    "result = np.zeros((len(list(seq_dict.values())[0]), len(aas)))\n",
    "for i, tpl in enumerate(zip(*seq_dict.values())):\n",
    "    result[i] = freq(tpl)"
   ]
  },
  {
   "cell_type": "code",
   "execution_count": 10,
   "metadata": {},
   "outputs": [
    {
     "data": {
      "text/plain": [
       "(3297, 21)"
      ]
     },
     "execution_count": 10,
     "metadata": {},
     "output_type": "execute_result"
    }
   ],
   "source": [
    "result.shape"
   ]
  },
  {
   "cell_type": "code",
   "execution_count": 11,
   "metadata": {},
   "outputs": [],
   "source": [
    "entropy = np.zeros((result.shape[0], ))\n",
    "\n",
    "for pos in range(result.shape[0]):\n",
    "    entropy[pos] = stats.entropy(result[pos, :] / result[pos, :].sum())\n",
    "    \n",
    "l = np.where(np.array(list(seq_dict[\"VWF_HUMAN\"])) != \"-\")[0]\n",
    "START, FINISH = l[0], l[-1]\n",
    "positions = [i for i in np.where(entropy < .5)[0] if i > START and i < FINISH]"
   ]
  },
  {
   "cell_type": "code",
   "execution_count": 16,
   "metadata": {},
   "outputs": [],
   "source": [
    "indices = np.cumsum(np.array([(0 if c == \"-\" else 1) for c in seq_dict[\"VWF_HUMAN\"]]))\n",
    "out_of_margin = np.where(entropy < np.percentile(entropy, 2.5))\n",
    "real_indices = indices[out_of_margin]"
   ]
  },
  {
   "cell_type": "code",
   "execution_count": 17,
   "metadata": {},
   "outputs": [
    {
     "data": {
      "text/plain": [
       "array([ 112,  114,  125,  135,  141,  158,  159,  160,  161,  162,  163,\n",
       "        166,  171,  185,  187,  189,  190,  191,  200,  202,  210,  225,\n",
       "        250,  255,  263,  265,  269,  273,  275,  279,  285,  291,  295,\n",
       "        296,  301,  304,  308,  312,  321,  325,  327,  328,  329,  331,\n",
       "        334,  337,  338,  342,  348,  350,  352,  388,  392,  393,  395,\n",
       "        397,  399,  400,  404,  405,  406,  408,  410,  412,  417,  423,\n",
       "        431,  502,  504,  506,  523,  529,  534,  540,  550,  574,  613,\n",
       "        661,  662,  665,  668,  669,  673,  679,  683,  685,  686,  687,\n",
       "        689,  690,  692,  701,  707,  709,  713,  718,  725,  776,  787,\n",
       "        811,  827, 1060, 1068, 1089, 1091, 1120, 1130, 1149, 1157, 1180,\n",
       "       1183, 1184, 1185, 1190, 1196, 1199, 1209, 1222, 1227, 1234, 1237,\n",
       "       1272, 1277, 1278, 1280, 1283, 1284, 1285, 1293, 1297, 1299, 1315,\n",
       "       1349, 1351, 1504, 1510, 1514, 1573, 1578, 1579, 1581, 1614, 1627,\n",
       "       1639, 1657, 1686, 1696, 1711, 1713, 1718, 1735, 1754, 1787, 1789,\n",
       "       1794, 1806, 1828, 1899, 1919, 1925, 1927, 1940, 1942, 1944, 1946,\n",
       "       1947, 1948, 1950, 1952, 1953, 1959, 1961, 1972, 1974, 1988, 1993,\n",
       "       2001, 2006, 2016, 2032, 2044, 2062, 2063, 2066, 2067, 2068, 2083,\n",
       "       2085, 2086, 2088, 2114, 2123, 2131, 2139, 2147, 2150, 2163, 2168,\n",
       "       2174, 2180, 2184, 2190, 2193, 2194, 2199, 2257, 2271, 2281, 2283,\n",
       "       2284, 2291, 2296, 2307, 2332, 2338, 2340, 2343, 2350, 2352, 2354,\n",
       "       2356, 2360, 2362, 2367, 2375, 2388, 2389, 2394, 2396, 2398, 2405,\n",
       "       2408, 2418, 2420, 2425, 2427, 2430, 2431, 2441, 2444, 2448, 2451,\n",
       "       2453, 2458, 2468, 2473, 2477, 2480, 2483, 2490, 2491, 2492, 2494,\n",
       "       2499])"
      ]
     },
     "execution_count": 17,
     "metadata": {},
     "output_type": "execute_result"
    }
   ],
   "source": [
    "real_indices"
   ]
  },
  {
   "cell_type": "code",
   "execution_count": 228,
   "metadata": {
    "scrolled": false
   },
   "outputs": [
    {
     "data": {
      "text/plain": [
       "<matplotlib.axes._subplots.AxesSubplot at 0x1079d3be0>"
      ]
     },
     "execution_count": 228,
     "metadata": {},
     "output_type": "execute_result"
    },
    {
     "data": {
      "image/png": "[encoded data removed]",
      "text/plain": [
       "<Figure size 432x288 with 1 Axes>"
      ]
     },
     "metadata": {},
     "output_type": "display_data"
    }
   ],
   "source": [
    "sns.kdeplot(entropy)"
   ]
  }
 ],
 "metadata": {
  "kernelspec": {
   "display_name": "Python 3.6",
   "language": "python",
   "name": "python3.6"
  },
  "language_info": {
   "codemirror_mode": {
    "name": "ipython",
    "version": 3
   },
   "file_extension": ".py",
   "mimetype": "text/x-python",
   "name": "python",
   "nbconvert_exporter": "python",
   "pygments_lexer": "ipython3",
   "version": "3.6.3"
  }
 },
 "nbformat": 4,
 "nbformat_minor": 2
}
