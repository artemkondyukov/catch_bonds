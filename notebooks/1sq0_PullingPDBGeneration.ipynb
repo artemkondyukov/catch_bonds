{
 "cells": [
  {
   "cell_type": "code",
   "execution_count": 1,
   "metadata": {},
   "outputs": [],
   "source": [
    "from Bio.PDB import Chain, Entity, PDBIO, PDBParser\n",
    "from copy import deepcopy\n",
    "from matplotlib import pyplot as plt\n",
    "import numpy as np\n",
    "import os\n",
    "from tqdm import tqdm_notebook as tqdm\n",
    "\n",
    "%matplotlib inline"
   ]
  },
  {
   "cell_type": "code",
   "execution_count": 2,
   "metadata": {},
   "outputs": [],
   "source": [
    "parser = PDBParser()"
   ]
  },
  {
   "cell_type": "code",
   "execution_count": 3,
   "metadata": {},
   "outputs": [],
   "source": [
    "structure = parser.get_structure(0, \"/Users/fonturacetamum/Projects/catch_bonds/1sq0/infiles/in.pdb\")"
   ]
  },
  {
   "cell_type": "markdown",
   "metadata": {},
   "source": [
    "There are two chains in the system: vWF and GPIb$\\alpha$.  \n",
    "According to (Springer, 2014), in order to detect catch-bond behavior, we should pull C-terminus of GPIb$\\alpha$ away from N-terminus of vWF. Let's draw a line between twe termini and sample points from two circles to place two dummy aminoacids. These aminoacids will determine where exactly pulling force will be directed."
   ]
  },
  {
   "cell_type": "code",
   "execution_count": 4,
   "metadata": {},
   "outputs": [],
   "source": [
    "vWF, gp1ba, _ = structure.get_chains()"
   ]
  },
  {
   "cell_type": "code",
   "execution_count": 5,
   "metadata": {},
   "outputs": [],
   "source": [
    "for r in vWF.get_residues():\n",
    "    n_term_vWF = r\n",
    "    break\n",
    "n_term_vWF = [a for a in n_term_vWF if a.get_fullname().strip() == \"CA\"][0]\n",
    "n_term_vWF_coords = n_term_vWF.get_coord()\n",
    "\n",
    "\n",
    "for r in gp1ba.get_residues():\n",
    "    c_term_gp1ba = r\n",
    "c_term_gp1ba = [a for a in c_term_gp1ba if a.get_fullname().strip() == \"CA\"][0]\n",
    "c_term_gp1ba_coords = c_term_gp1ba.get_coord()"
   ]
  },
  {
   "cell_type": "code",
   "execution_count": 6,
   "metadata": {},
   "outputs": [],
   "source": [
    "TARGET_DISTANCE = 100\n",
    "EPS = 1e-3\n",
    "MAX_ANGLE = 15 # degrees"
   ]
  },
  {
   "cell_type": "code",
   "execution_count": 7,
   "metadata": {},
   "outputs": [],
   "source": [
    "diff_vector = n_term_vWF_coords - c_term_gp1ba_coords\n",
    "distance = np.linalg.norm(diff_vector)\n",
    "diff_vector_target_len = diff_vector * (TARGET_DISTANCE / distance)\n",
    "n_further = n_term_vWF_coords + diff_vector_target_len\n",
    "c_further = c_term_gp1ba_coords - diff_vector_target_len"
   ]
  },
  {
   "cell_type": "markdown",
   "metadata": {},
   "source": [
    "We need to generate points from two circles, let's try to do so and ensure that we have the right distribution."
   ]
  },
  {
   "cell_type": "code",
   "execution_count": 8,
   "metadata": {},
   "outputs": [
    {
     "name": "stdout",
     "output_type": "stream",
     "text": [
      "Could not build a perpendicular vector.\n",
      "Could not build a perpendicular vector.\n",
      "Could not build a perpendicular vector.\n",
      "Could not build a perpendicular vector.\n",
      "Could not build a perpendicular vector.\n",
      "Could not build a perpendicular vector.\n",
      "Could not build a perpendicular vector.\n",
      "Could not build a perpendicular vector.\n",
      "Could not build a perpendicular vector.\n",
      "Could not build a perpendicular vector.\n"
     ]
    }
   ],
   "source": [
    "sampled_angles = []\n",
    "\n",
    "for _ in range(10000):\n",
    "    n_vector = n_further - n_term_vWF_coords\n",
    "    n_vector_norm = n_vector / np.linalg.norm(n_vector)\n",
    "\n",
    "    # Find an orthonormal basis for vectors orthogonal to n_vector\n",
    "    x_basis = np.random.randn(3)\n",
    "    x_basis -= x_basis.dot(n_vector_norm) * n_vector_norm\n",
    "    x_basis /= np.linalg.norm(x_basis)\n",
    "    y_basis = np.cross(n_vector_norm, x_basis)\n",
    "\n",
    "    # For uniform sampling from a circle let's sample in polar coordinates\n",
    "    r_sample, phi_sample = np.random.rand(2)\n",
    "    r_sample *= TARGET_DISTANCE * np.tan(MAX_ANGLE / 180 * np.pi)\n",
    "    phi_sample *= 2 * np.pi\n",
    "    x_coef = r_sample * np.cos(phi_sample)\n",
    "    y_coef = r_sample * np.sin(phi_sample)\n",
    "\n",
    "    sampled_vector = x_coef * x_basis + y_coef * y_basis\n",
    "    if np.abs(np.dot(n_vector, sampled_vector)) > EPS:\n",
    "        print(\"Could not build a perpendicular vector.\")\n",
    "        continue\n",
    "    sampled_point = n_further + sampled_vector\n",
    "\n",
    "    v1 = n_term_vWF_coords - sampled_point\n",
    "    v2 = n_term_vWF_coords - n_further\n",
    "    sampled_angle = np.arccos(np.dot(v1, v2) / np.linalg.norm(v1) / np.linalg.norm(v2)) * 180 / np.pi\n",
    "    sampled_angles.append(sampled_angle)"
   ]
  },
  {
   "cell_type": "code",
   "execution_count": 9,
   "metadata": {},
   "outputs": [
    {
     "data": {
      "image/png": "[encoded data removed]",
      "text/plain": [
       "<Figure size 864x864 with 1 Axes>"
      ]
     },
     "metadata": {},
     "output_type": "display_data"
    }
   ],
   "source": [
    "plt.style.use('dark_background')\n",
    "fig = plt.figure(figsize=(12, 12))\n",
    "ax = fig.add_subplot(1, 1, 1)\n",
    "fig.patch.set_facecolor(\"xkcd:black\")\n",
    "ax.hist(sampled_angles)\n",
    "[t.set_fontsize(16) for t in ax.get_xticklabels()]\n",
    "_ = ax.set_xlabel(\"Angle, °\", fontdict={\"size\": 20})\n",
    "[t.set_fontsize(16) for t in ax.get_yticklabels()]\n",
    "_ = ax.set_ylabel(\"# of occurrences\", fontdict={\"size\": 20})"
   ]
  },
  {
   "cell_type": "markdown",
   "metadata": {},
   "source": [
    "We do have uniform distribution of angles. We can use sampled points as coordinates of CA atom of dummy aminoacids."
   ]
  },
  {
   "cell_type": "code",
   "execution_count": 10,
   "metadata": {},
   "outputs": [],
   "source": [
    "def sample_perp_vector(vector):\n",
    "    vector_length = np.linalg.norm(vector)\n",
    "    vector_norm = vector / vector_length\n",
    "    \n",
    "    # Find an orthonormal basis for vectors orthogonal to n_vector\n",
    "    x_basis = np.random.randn(3)\n",
    "    x_basis -= x_basis.dot(n_vector_norm) * n_vector_norm\n",
    "    x_basis /= np.linalg.norm(x_basis)\n",
    "    y_basis = np.cross(n_vector_norm, x_basis)\n",
    "    \n",
    "    # For uniform sampling from a circle let's sample in polar coordinates\n",
    "    r_sample, phi_sample = np.random.rand(2)\n",
    "    r_sample *= vector_length * np.tan(MAX_ANGLE / 180 * np.pi)\n",
    "    phi_sample *= 2 * np.pi\n",
    "    x_coef = r_sample * np.cos(phi_sample)\n",
    "    y_coef = r_sample * np.sin(phi_sample)\n",
    "\n",
    "    sampled_vector = x_coef * x_basis + y_coef * y_basis\n",
    "    if np.abs(np.dot(n_vector, sampled_vector)) > EPS:\n",
    "        print(\"Could not build a perpendicular vector.\")\n",
    "        return None\n",
    "    \n",
    "    return sampled_vector"
   ]
  },
  {
   "cell_type": "code",
   "execution_count": 11,
   "metadata": {},
   "outputs": [],
   "source": [
    "c_dummy_ca_coord = sample_perp_vector(diff_vector_target_len) + n_further\n",
    "d_dummy_ca_coord = sample_perp_vector(diff_vector_target_len) + c_further\n",
    "\n",
    "structure = parser.get_structure(0, \"../1sq0/infiles/in.pdb\")\n",
    "\n",
    "chain_c = [c for c in structure.get_chains()][-1]\n",
    "chain_d = Chain.Chain(\"D\")\n",
    "chain_d.add(deepcopy(chain_c.child_dict[(\" \", 1, \" \")]))\n",
    "m = structure.child_dict[0]\n",
    "m.add(chain_d)\n",
    "chain_c.transform(np.eye(3), c_dummy_ca_coord - chain_c.child_dict[(\" \", 1, \" \")].child_dict[\"CA\"].get_coord())\n",
    "chain_d.transform(np.eye(3), d_dummy_ca_coord - chain_d.child_dict[(\" \", 1, \" \")].child_dict[\"CA\"].get_coord())\n",
    "\n",
    "pdb_io = PDBIO()\n",
    "pdb_io.set_structure(structure)\n",
    "dirname = \"../1sq0/infiles/\"\n",
    "pdb_io.save(os.path.join(dirname, \"test_sampling.pdb\"))"
   ]
  }
 ],
 "metadata": {
  "kernelspec": {
   "display_name": "Python 3.6",
   "language": "python",
   "name": "python3.6"
  },
  "language_info": {
   "codemirror_mode": {
    "name": "ipython",
    "version": 3
   },
   "file_extension": ".py",
   "mimetype": "text/x-python",
   "name": "python",
   "nbconvert_exporter": "python",
   "pygments_lexer": "ipython3",
   "version": "3.6.3"
  }
 },
 "nbformat": 4,
 "nbformat_minor": 2
}
